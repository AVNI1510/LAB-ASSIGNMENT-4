{
 "cells": [
  {
   "cell_type": "code",
   "execution_count": 1,
   "metadata": {},
   "outputs": [
    {
     "name": "stdout",
     "output_type": "stream",
     "text": [
      "[12, 24, 35, 88, 120, 155]\n"
     ]
    }
   ],
   "source": [
    "#Q 5 With a given list [12,24,35,24,88,120,155,88,120,155], write a program to print this list after removing all duplicate values with original order reserved.\n",
    "list=[12, 24, 35, 24, 88, 120, 155, 88, 120, 155]\n",
    "items=[]\n",
    "for x in list:\n",
    "  if x not in items:\n",
    "    items.append(x)\n",
    "print(items)"
   ]
  },
  {
   "cell_type": "code",
   "execution_count": 2,
   "metadata": {},
   "outputs": [
    {
     "name": "stdout",
     "output_type": "stream",
     "text": [
      "ENTER A STRING=avniburman\n",
      "Characters present at even index:\n",
      "a\n",
      "n\n",
      "b\n",
      "r\n",
      "a\n"
     ]
    }
   ],
   "source": [
    "#Q 4 Please write a program which accepts a string from console and print the characters that have even indexes.\n",
    "#even index\n",
    "a=input(\"ENTER A STRING=\")\n",
    "i=0\n",
    "print('Characters present at even index:')\n",
    "while i<len(a):\n",
    "        print(a[i])\n",
    "        i=i+2"
   ]
  },
  {
   "cell_type": "code",
   "execution_count": 3,
   "metadata": {},
   "outputs": [
    {
     "name": "stdout",
     "output_type": "stream",
     "text": [
      "ENTER A STRING=avniburman\n",
      "anbra\n"
     ]
    }
   ],
   "source": [
    "#alternative\n",
    "a=input(\"ENTER A STRING=\")\n",
    "print(a[::2])"
   ]
  },
  {
   "cell_type": "code",
   "execution_count": 1,
   "metadata": {},
   "outputs": [
    {
     "name": "stdout",
     "output_type": "stream",
     "text": [
      "Enter a sentence:She was young the way an actual young person is young.”\n",
      "['She', 'was', 'young', 'the', 'way', 'an', 'actual', 'young', 'person', 'is', 'young.”'] 0\n"
     ]
    }
   ],
   "source": [
    "#Q 3 Write a program to compute the frequency of the words from the input. The output should output after sorting the key alphanumerically.\n",
    "sentence=input(\"Enter a sentence:\")\n",
    "word=[]\n",
    "word=sentence.split()\n",
    "for x in word:\n",
    "    l=word.count(word)\n",
    "print(word,l)"
   ]
  },
  {
   "cell_type": "code",
   "execution_count": 2,
   "metadata": {},
   "outputs": [
    {
     "name": "stdout",
     "output_type": "stream",
     "text": [
      "(('avni', 19, 10), ('shivi', 19, 4), ('geet', 25, 9))\n",
      "0\n"
     ]
    }
   ],
   "source": [
    "#Q 2 You are required to write a program to sort the (name, age, height) tuples by ascending order where name is string, age and height are numbers. The tuples are input by console.\n",
    "tuple=(\"avni\", 19, 10), (\"shivi\", 19, 4), (\"geet\", 25, 9)\n",
    "print(tuple)\n",
    "sorted(tuple)\n",
    "print(l)"
   ]
  },
  {
   "cell_type": "code",
   "execution_count": 3,
   "metadata": {},
   "outputs": [
    {
     "name": "stdout",
     "output_type": "stream",
     "text": [
      "Enter your password:avni, Zangee@1, Bshi#1512\n",
      "[' Zangee@1']\n",
      "[' Zangee@1', ' Bshi#1512']\n",
      "[' Zangee@1', ' Bshi#1512', ' Bshi#1512']\n",
      "[' Zangee@1', ' Bshi#1512', ' Bshi#1512', ' Bshi#1512']\n",
      "[' Zangee@1', ' Bshi#1512', ' Bshi#1512', ' Bshi#1512', ' Bshi#1512']\n"
     ]
    }
   ],
   "source": [
    "#Q 1 Write a program to check the validity of password input by users.\n",
    "password=input(\"Enter your password:\").split(\",\")\n",
    "c=[]\n",
    "for x in password:\n",
    "    if len(x) in range(6,12):\n",
    "        for word in x:\n",
    "            if word .islower():\n",
    "                pass\n",
    "            elif word .isupper():\n",
    "                pass\n",
    "            elif word in (\"@\", \"#\", \"$\"):\n",
    "                pass\n",
    "            elif word .isdigit():\n",
    "                c.append(x)\n",
    "                print(c)"
   ]
  },
  {
   "cell_type": "code",
   "execution_count": null,
   "metadata": {},
   "outputs": [],
   "source": []
  }
 ],
 "metadata": {
  "kernelspec": {
   "display_name": "Python 3",
   "language": "python",
   "name": "python3"
  },
  "language_info": {
   "codemirror_mode": {
    "name": "ipython",
    "version": 3
   },
   "file_extension": ".py",
   "mimetype": "text/x-python",
   "name": "python",
   "nbconvert_exporter": "python",
   "pygments_lexer": "ipython3",
   "version": "3.8.3"
  }
 },
 "nbformat": 4,
 "nbformat_minor": 4
}
